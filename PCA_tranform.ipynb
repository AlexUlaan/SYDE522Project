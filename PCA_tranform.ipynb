{
 "cells": [
  {
   "cell_type": "code",
   "execution_count": 1,
   "metadata": {},
   "outputs": [],
   "source": [
    "import os\n",
    "def get_filenames(dir):\n",
    "    paths = []\n",
    "    for root, dirs, files in os.walk(dir):\n",
    "        for file in files:\n",
    "            paths.append([root, file])\n",
    "    return paths\n"
   ]
  },
  {
   "cell_type": "code",
   "execution_count": 2,
   "metadata": {},
   "outputs": [],
   "source": [
    "from sklearn.decomposition import IncrementalPCA as ipca\n",
    "import cv2\n",
    "import numpy as np\n",
    "\n",
    "path = 'D:/Workdir/522proj_data/train512'\n",
    "paths = get_filenames(path)\n",
    "\n",
    "img_flatarr = np.zeros((1, ))\n",
    "for img_path in paths:\n",
    "    img = cv2.imread(os.path.join(img_path[0], img_path[1]))\n",
    "    img_flat = np.ndarray.flatten(img).reshape((1, -1))\n",
    "    img_flatarr = img_flat if img_flatarr.shape == (1, ) else np.concatenate((img_flatarr, img_flat), axis=0)\n"
   ]
  },
  {
   "cell_type": "code",
   "execution_count": 3,
   "metadata": {},
   "outputs": [],
   "source": [
    "import pickle as pkl\n",
    "for ind in range(10):\n",
    "    with open(f'img/img_flatarr{ind}.pkl', 'wb') as fil:\n",
    "        pkl.dump(img_flatarr[700*ind:700*(ind+1), :], fil)"
   ]
  },
  {
   "cell_type": "code",
   "execution_count": 4,
   "metadata": {},
   "outputs": [],
   "source": [
    "pca = ipca(n_components = 20)\n",
    "\n",
    "for ind in range(10):\n",
    "    with open(f'D:/Workdir/522proj_data/img/img_flatarr{ind}.pkl', 'rb') as fil:\n",
    "        img_flatarr1 = pkl.load(fil)\n",
    "    pca.partial_fit(img_flatarr1)"
   ]
  },
  {
   "cell_type": "code",
   "execution_count": 13,
   "metadata": {},
   "outputs": [
    {
     "data": {
      "text/plain": [
       "array([0.48304417, 0.10652223, 0.09000404, 0.05671064, 0.04865326,\n",
       "       0.03661147, 0.01800899, 0.01469228, 0.01253944, 0.01024745,\n",
       "       0.00777814, 0.00639425, 0.00559821, 0.00535274, 0.00509959,\n",
       "       0.00445624, 0.00346801, 0.00315531, 0.0026104 , 0.00212912])"
      ]
     },
     "execution_count": 13,
     "metadata": {},
     "output_type": "execute_result"
    }
   ],
   "source": [
    "pca.explained_variance_ratio_"
   ]
  },
  {
   "cell_type": "code",
   "execution_count": 7,
   "metadata": {},
   "outputs": [],
   "source": [
    "img_trans = np.zeros((1, ))\n",
    "for ind in range(10):\n",
    "    with open(f'D:/Workdir/522proj_data/img/img_flatarr{ind}.pkl', 'rb') as fil:\n",
    "        img_flatarr1 = pkl.load(fil)\n",
    "    trans = pca.transform(img_flatarr1)\n",
    "    img_trans = trans if img_trans.shape == (1, ) else np.concatenate((img_trans, trans), axis=0)\n",
    "    "
   ]
  },
  {
   "cell_type": "code",
   "execution_count": 12,
   "metadata": {},
   "outputs": [],
   "source": [
    "with open('img_trans.pkl', 'wb') as fil:\n",
    "    pkl.dump(img_trans, fil)"
   ]
  }
 ],
 "metadata": {
  "kernelspec": {
   "display_name": "Python 3",
   "language": "python",
   "name": "python3"
  },
  "language_info": {
   "codemirror_mode": {
    "name": "ipython",
    "version": 3
   },
   "file_extension": ".py",
   "mimetype": "text/x-python",
   "name": "python",
   "nbconvert_exporter": "python",
   "pygments_lexer": "ipython3",
   "version": "3.11.5"
  }
 },
 "nbformat": 4,
 "nbformat_minor": 2
}
