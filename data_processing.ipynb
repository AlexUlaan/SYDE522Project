{
 "cells": [
  {
   "cell_type": "markdown",
   "metadata": {},
   "source": [
    "# Notebook for dataset processing\n",
    "Please specify the location of ODIR dataset and designated location for images and run all the codes."
   ]
  },
  {
   "cell_type": "code",
   "execution_count": 6,
   "metadata": {},
   "outputs": [],
   "source": [
    "ODIR_path = 'D:/Workdir/ODIR-5K'\n",
    "img_path = 'D:/Workdir/522proj_data'"
   ]
  },
  {
   "cell_type": "markdown",
   "metadata": {},
   "source": [
    "# Processing CSV file\n",
    "Results are saved in this directory."
   ]
  },
  {
   "cell_type": "code",
   "execution_count": 7,
   "metadata": {},
   "outputs": [
    {
     "data": {
      "text/plain": [
       "['ID',\n",
       " 'Patient Age',\n",
       " 'Patient Sex',\n",
       " 'Left-Fundus',\n",
       " 'Right-Fundus',\n",
       " 'Left-Diagnostic Keywords',\n",
       " 'Right-Diagnostic Keywords',\n",
       " 'N',\n",
       " 'D',\n",
       " 'G',\n",
       " 'C',\n",
       " 'A',\n",
       " 'H',\n",
       " 'M',\n",
       " 'O']"
      ]
     },
     "execution_count": 7,
     "metadata": {},
     "output_type": "execute_result"
    }
   ],
   "source": [
    "import pandas as pd\n",
    "import os\n",
    "xlsx = pd.read_excel(os.path.join(ODIR_path, 'data.xlsx'))"
   ]
  },
  {
   "cell_type": "code",
   "execution_count": 8,
   "metadata": {},
   "outputs": [],
   "source": [
    "gender_onehot = pd.get_dummies(xlsx['Patient Sex'], dtype=int)\n",
    "xlsx = xlsx.drop('Patient Sex', axis=1)\n",
    "xlsx = xlsx.join(gender_onehot)\n",
    "del gender_onehot"
   ]
  },
  {
   "cell_type": "code",
   "execution_count": 9,
   "metadata": {},
   "outputs": [
    {
     "name": "stderr",
     "output_type": "stream",
     "text": [
      "C:\\Users\\axisa\\AppData\\Local\\Temp\\ipykernel_25144\\961675808.py:11: SettingWithCopyWarning: \n",
      "A value is trying to be set on a copy of a slice from a DataFrame\n",
      "\n",
      "See the caveats in the documentation: https://pandas.pydata.org/pandas-docs/stable/user_guide/indexing.html#returning-a-view-versus-a-copy\n",
      "  left_eye.rename(columns={\n",
      "C:\\Users\\axisa\\AppData\\Local\\Temp\\ipykernel_25144\\961675808.py:15: SettingWithCopyWarning: \n",
      "A value is trying to be set on a copy of a slice from a DataFrame.\n",
      "Try using .loc[row_indexer,col_indexer] = value instead\n",
      "\n",
      "See the caveats in the documentation: https://pandas.pydata.org/pandas-docs/stable/user_guide/indexing.html#returning-a-view-versus-a-copy\n",
      "  left_eye['Left'] = 1\n",
      "C:\\Users\\axisa\\AppData\\Local\\Temp\\ipykernel_25144\\961675808.py:16: SettingWithCopyWarning: \n",
      "A value is trying to be set on a copy of a slice from a DataFrame.\n",
      "Try using .loc[row_indexer,col_indexer] = value instead\n",
      "\n",
      "See the caveats in the documentation: https://pandas.pydata.org/pandas-docs/stable/user_guide/indexing.html#returning-a-view-versus-a-copy\n",
      "  left_eye['Right'] = 0\n",
      "C:\\Users\\axisa\\AppData\\Local\\Temp\\ipykernel_25144\\961675808.py:25: SettingWithCopyWarning: \n",
      "A value is trying to be set on a copy of a slice from a DataFrame\n",
      "\n",
      "See the caveats in the documentation: https://pandas.pydata.org/pandas-docs/stable/user_guide/indexing.html#returning-a-view-versus-a-copy\n",
      "  right_eye.rename(columns={\n",
      "C:\\Users\\axisa\\AppData\\Local\\Temp\\ipykernel_25144\\961675808.py:29: SettingWithCopyWarning: \n",
      "A value is trying to be set on a copy of a slice from a DataFrame.\n",
      "Try using .loc[row_indexer,col_indexer] = value instead\n",
      "\n",
      "See the caveats in the documentation: https://pandas.pydata.org/pandas-docs/stable/user_guide/indexing.html#returning-a-view-versus-a-copy\n",
      "  right_eye['Left'] = 0\n",
      "C:\\Users\\axisa\\AppData\\Local\\Temp\\ipykernel_25144\\961675808.py:30: SettingWithCopyWarning: \n",
      "A value is trying to be set on a copy of a slice from a DataFrame.\n",
      "Try using .loc[row_indexer,col_indexer] = value instead\n",
      "\n",
      "See the caveats in the documentation: https://pandas.pydata.org/pandas-docs/stable/user_guide/indexing.html#returning-a-view-versus-a-copy\n",
      "  right_eye['Right'] = 1\n"
     ]
    }
   ],
   "source": [
    "left_columns = ['ID',\n",
    " 'Patient Age',\n",
    " 'Female',\n",
    " 'Male',\n",
    " 'Left-Fundus',\n",
    " 'Left-Diagnostic Keywords']\n",
    "left_eye = xlsx[left_columns]\n",
    "left_eye.rename(columns={\n",
    "    'Left-Fundus': 'Fundus',\n",
    "    'Left-Diagnostic Keywords': 'Keywords'\n",
    "}, inplace=True)\n",
    "left_eye['Left'] = 1\n",
    "left_eye['Right'] = 0\n",
    "\n",
    "right_columns = ['ID',\n",
    " 'Patient Age',\n",
    " 'Female',\n",
    " 'Male',\n",
    " 'Right-Fundus',\n",
    " 'Right-Diagnostic Keywords']\n",
    "right_eye = xlsx[right_columns]\n",
    "right_eye.rename(columns={\n",
    "    'Right-Fundus': 'Fundus',\n",
    "    'Right-Diagnostic Keywords': 'Keywords'\n",
    "}, inplace=True)\n",
    "right_eye['Left'] = 0\n",
    "right_eye['Right'] = 1\n",
    "\n",
    "concat_eyes = pd.concat((left_eye, right_eye))\n",
    "del left_eye, left_columns, right_eye, right_columns\n",
    "\n",
    "def label_diagnosis(row):\n",
    "    diagnosis = row['Keywords']\n",
    "    Normal = Diabetes = Glaucoma = Cataract = Age_related = Hypertension = Pathological = Other = 0\n",
    "    other_lst = ['post retinal laser surgery', 'occlusion', 'epiretinal membrane', 'spotted membranous change', \n",
    "                 'refractive media opacity', 'vitreous degeneration','white vessel', 'laser spot', 'tessellated fundus', \n",
    "                 'drusen', 'myelinated nerve fibers', 'chorioretinal atrophy', 'retinal pigmentation',\n",
    "                 'retinitis pigmentosa', 'old chorioretinopathy', 'atrophic change', 'maculopathy',\n",
    "                 'peripapillary atrophy', 'post laser photocoagulation', 'pigment',\n",
    "                 'optic nerve atrophy', 'retinochoroidal coloboma', 'optic disc edema']\n",
    "    null_lst = ['anterior segment image', 'image offset', 'low image quality',\n",
    "                'lens dust', 'no fundus image', 'optic disk photographically invisible',\n",
    "                ]\n",
    "    \n",
    "    diags = diagnosis.split('，')\n",
    "    for diag in diags:\n",
    "        normal_flag = True\n",
    "        if diag in null_lst:\n",
    "            continue\n",
    "        if 'cataract' in diag: # cataract\n",
    "            Cataract = 1\n",
    "            normal_flag = False\n",
    "        if 'hypertensive' in diag: # Hypertension\n",
    "            Hypertension = 1\n",
    "            normal_flag = False\n",
    "        if 'glaucoma' in diag: # glaucoma\n",
    "            Glaucoma = 1\n",
    "            normal_flag = False\n",
    "        if sum([1 if dia in diag else 0 for dia in ['nonproliferative', 'non proliferative', 'diabetic']]) > 0: # diabete\n",
    "            Diabetes = 1\n",
    "            normal_flag = False\n",
    "        if 'age-related' in diag:# age-related\n",
    "            Age_related = 1\n",
    "            normal_flag = False\n",
    "        if 'pathological' in diag: # pathological\n",
    "            Pathological = 1\n",
    "            normal_flag = False\n",
    "        if 'myopi' in diag: # pathological\n",
    "            Pathological = 1\n",
    "            normal_flag = False\n",
    "        if sum([1 if oth in diag else 0 for oth in other_lst]) > 0:\n",
    "            Other = 1\n",
    "            normal_flag = False\n",
    "\n",
    "        if 'normal fundus' in diag and normal_flag: # normal\n",
    "            Normal = 1\n",
    "        elif normal_flag:\n",
    "            Other = 1\n",
    "    return Normal, Diabetes, Glaucoma, Cataract, Age_related, Hypertension, Pathological, Other\n",
    "\n",
    "eyes_diag = concat_eyes.apply(label_diagnosis, axis=1, result_type='expand')\n",
    "eyes_diag.rename(columns={\n",
    "    i: ['Normal', 'Diabetes', 'Glaucoma', 'Cataract', 'Age_related', 'Hypertension', 'Pathological', 'Other'][int(i)] for i in eyes_diag.columns.to_list()\n",
    "}, inplace=True)\n",
    "\n",
    "concat_eyes = concat_eyes.drop('Keywords', axis=1)\n",
    "concat_eyes = concat_eyes[['ID', 'Patient Age', 'Female', 'Male', 'Left', 'Right', 'Fundus']]\n",
    "dataset = pd.concat((concat_eyes, eyes_diag), axis=1)\n",
    "dataset.to_csv('dataset.csv')"
   ]
  },
  {
   "cell_type": "markdown",
   "metadata": {},
   "source": [
    "# Processing Images\n",
    "Please specify another path (different from this directory) to avoid uploading the whole dataset on GitHub."
   ]
  },
  {
   "cell_type": "code",
   "execution_count": null,
   "metadata": {},
   "outputs": [],
   "source": [
    "import cv2\n",
    "import matplotlib.pyplot as plt\n",
    "\n",
    "def img_normalization(image_path, re_size=(2048, 2048)):\n",
    "    image = cv2.imread(image_path)\n",
    "    img = cv2.medianBlur(image, 5)\n",
    "    gray = cv2.cvtColor(img, cv2.COLOR_BGR2GRAY)\n",
    "    _, filtered = cv2.threshold(gray, 10, 255, cv2.THRESH_BINARY)\n",
    "\n",
    "    x_axis = filtered.max(axis=1)\n",
    "    y_axis = filtered.max(axis=0)\n",
    "    x_min = (x_axis>0).argmax()\n",
    "    x_max = x_axis.shape[0] - (x_axis[::-1]>0).argmax()\n",
    "    y_min = (y_axis>0).argmax()\n",
    "    y_max = y_axis.shape[0] - (y_axis[::-1]>0).argmax()\n",
    "    cutted = image[x_min:x_max, y_min:y_max, :]\n",
    "    res_img = cv2.resize(cutted, re_size)\n",
    "    return res_img"
   ]
  },
  {
   "cell_type": "code",
   "execution_count": null,
   "metadata": {},
   "outputs": [],
   "source": [
    "import os\n",
    "def get_filenames(dir):\n",
    "    paths = []\n",
    "    for root, dirs, files in os.walk(dir):\n",
    "        for file in files:\n",
    "            paths.append([root, file])\n",
    "    return paths\n",
    "\n",
    "test_paths = get_filenames(os.path.join(ODIR_path, 'Testing Images'))\n",
    "train_paths = get_filenames(os.path.join(ODIR_path, 'Training Images'))"
   ]
  },
  {
   "cell_type": "code",
   "execution_count": null,
   "metadata": {},
   "outputs": [],
   "source": [
    "if not os.path.isdir(os.path.join(img_path, 'test')):\n",
    "    os.mkdir(os.path.join(img_path, 'test'))\n",
    "if not os.path.isdir(os.path.join(img_path, 'train')):\n",
    "    os.mkdir(os.path.join(img_path, 'train'))\n",
    "\n",
    "for path in test_paths:\n",
    "    print(os.path.join(path[0], path[1]))\n",
    "    img = img_normalization(os.path.join(path[0], path[1]))\n",
    "    cv2.imwrite(os.path.join(img_path, 'test', path[1]), img)\n",
    "for path in train_paths:\n",
    "    print(os.path.join(path[0], path[1]))\n",
    "    img = img_normalization(os.path.join(path[0], path[1]))\n",
    "    cv2.imwrite(os.path.join(img_path, 'train', path[1]), img)"
   ]
  }
 ],
 "metadata": {
  "kernelspec": {
   "display_name": "base",
   "language": "python",
   "name": "python3"
  },
  "language_info": {
   "codemirror_mode": {
    "name": "ipython",
    "version": 3
   },
   "file_extension": ".py",
   "mimetype": "text/x-python",
   "name": "python",
   "nbconvert_exporter": "python",
   "pygments_lexer": "ipython3",
   "version": "3.11.5"
  }
 },
 "nbformat": 4,
 "nbformat_minor": 2
}
